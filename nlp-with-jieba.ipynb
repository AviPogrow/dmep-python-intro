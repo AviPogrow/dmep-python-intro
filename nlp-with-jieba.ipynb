{
 "cells": [
  {
   "cell_type": "markdown",
   "metadata": {},
   "source": [
    "# NLProc Tasks with Jieba\n",
    "\n",
    "By [Allison Parrish](http://www.decontextualize.com/)\n",
    "\n",
    "This is a very basic guide to breaking down Chinese text into words and parts of speech with [Jieba](https://github.com/fxsjy/jieba). Make sure you've installed Jieba first (with `pip`, use `pip install jieba`; with Anaconda, try `conda install jieba`). Then import the library:"
   ]
  },
  {
   "cell_type": "code",
   "execution_count": 13,
   "metadata": {
    "collapsed": true
   },
   "outputs": [],
   "source": [
    "import jieba"
   ]
  },
  {
   "cell_type": "markdown",
   "metadata": {},
   "source": [
    "Jieba's `cut()` function splits a text into words. By default, it returns a Python \"generator,\" which means that we need to explicitly convert the result to a list."
   ]
  },
  {
   "cell_type": "code",
   "execution_count": 16,
   "metadata": {},
   "outputs": [
    {
     "data": {
      "text/plain": [
       "['我', '爱', '我', '的', '妹妹']"
      ]
     },
     "execution_count": 16,
     "metadata": {},
     "output_type": "execute_result"
    }
   ],
   "source": [
    "list(jieba.cut(\"我爱我的妹妹\"))"
   ]
  },
  {
   "cell_type": "code",
   "execution_count": 19,
   "metadata": {},
   "outputs": [
    {
     "data": {
      "text/plain": [
       "['我', '是', '美国']"
      ]
     },
     "execution_count": 19,
     "metadata": {},
     "output_type": "execute_result"
    }
   ],
   "source": [
    "list(jieba.cut(\"我是美国\"))"
   ]
  },
  {
   "cell_type": "markdown",
   "metadata": {},
   "source": [
    "This is different from just splitting the text up into characters:"
   ]
  },
  {
   "cell_type": "code",
   "execution_count": 22,
   "metadata": {
    "scrolled": true
   },
   "outputs": [
    {
     "data": {
      "text/plain": [
       "['我', '是', '美', '国']"
      ]
     },
     "execution_count": 22,
     "metadata": {},
     "output_type": "execute_result"
    }
   ],
   "source": [
    "list(\"我是美国\")"
   ]
  },
  {
   "cell_type": "markdown",
   "metadata": {},
   "source": [
    "The following code reads in an entire text file and splits it into words. "
   ]
  },
  {
   "cell_type": "code",
   "execution_count": 23,
   "metadata": {
    "collapsed": true
   },
   "outputs": [],
   "source": [
    "words = list(jieba.cut(open(\"./xu_zhimo.txt\").read()))"
   ]
  },
  {
   "cell_type": "code",
   "execution_count": 28,
   "metadata": {
    "scrolled": true
   },
   "outputs": [
    {
     "data": {
      "text/plain": [
       "['雪花',\n",
       " '的',\n",
       " '快乐',\n",
       " '\\n',\n",
       " '\\n',\n",
       " '假若',\n",
       " '我',\n",
       " '是',\n",
       " '一朵',\n",
       " '雪花',\n",
       " '，',\n",
       " '\\n',\n",
       " '翩翩',\n",
       " '的',\n",
       " '在',\n",
       " '半空',\n",
       " '里',\n",
       " '潇洒',\n",
       " '，',\n",
       " '\\n',\n",
       " '我',\n",
       " '一定',\n",
       " '认清',\n",
       " '我',\n",
       " '的',\n",
       " '方向',\n",
       " '\\n',\n",
       " '—',\n",
       " '—',\n",
       " '飞扬',\n",
       " '，',\n",
       " '飞扬',\n",
       " '，',\n",
       " '飞扬',\n",
       " '，',\n",
       " '\\n',\n",
       " '这',\n",
       " '地面',\n",
       " '上',\n",
       " '有',\n",
       " '我',\n",
       " '的',\n",
       " '方向',\n",
       " '。',\n",
       " '\\n',\n",
       " '\\n',\n",
       " '不去',\n",
       " '那',\n",
       " '冷寞',\n",
       " '的']"
      ]
     },
     "execution_count": 28,
     "metadata": {},
     "output_type": "execute_result"
    }
   ],
   "source": [
    "words[:50]"
   ]
  },
  {
   "cell_type": "markdown",
   "metadata": {},
   "source": [
    "With this list, we can do a quick count to find the most common words:"
   ]
  },
  {
   "cell_type": "code",
   "execution_count": 29,
   "metadata": {
    "collapsed": true
   },
   "outputs": [],
   "source": [
    "from collections import Counter\n",
    "c = Counter(words)"
   ]
  },
  {
   "cell_type": "code",
   "execution_count": 31,
   "metadata": {},
   "outputs": [
    {
     "data": {
      "text/plain": [
       "[('\\n', 585),\n",
       " ('，', 332),\n",
       " ('的', 281),\n",
       " ('我', 134),\n",
       " ('你', 86),\n",
       " ('在', 84),\n",
       " (' ', 62),\n",
       " ('！', 59),\n",
       " ('。', 56),\n",
       " ('—', 54),\n",
       " ('是', 51),\n",
       " ('了', 47),\n",
       " ('；', 36),\n",
       " ('－', 33),\n",
       " ('这', 27),\n",
       " ('着', 25),\n",
       " ('她', 24),\n",
       " ('那', 23),\n",
       " ('一个', 22),\n",
       " ('里', 21),\n",
       " ('─', 18),\n",
       " ('有', 17),\n",
       " ('不', 17),\n",
       " ('上', 16),\n",
       " ('也', 16)]"
      ]
     },
     "execution_count": 31,
     "metadata": {},
     "output_type": "execute_result"
    }
   ],
   "source": [
    "c.most_common(25)"
   ]
  },
  {
   "cell_type": "markdown",
   "metadata": {},
   "source": [
    "You can see that the algorithm also picks out punctuation as words, which isn't ideal. We can improve the analysis a little bit by using the `.isalpha()` method on string values, which returns `True` if the string contains only non-punctuation characters:"
   ]
  },
  {
   "cell_type": "code",
   "execution_count": 36,
   "metadata": {
    "collapsed": true
   },
   "outputs": [],
   "source": [
    "filtered_words = [w for w in words if w.isalpha()]"
   ]
  },
  {
   "cell_type": "code",
   "execution_count": 38,
   "metadata": {},
   "outputs": [
    {
     "data": {
      "text/plain": [
       "['雪花', '的', '快乐', '假若', '我', '是', '一朵', '雪花', '翩翩', '的']"
      ]
     },
     "execution_count": 38,
     "metadata": {},
     "output_type": "execute_result"
    }
   ],
   "source": [
    "filtered_words[:10]"
   ]
  },
  {
   "cell_type": "markdown",
   "metadata": {},
   "source": [
    "Now the count will seem a bit more accurate:"
   ]
  },
  {
   "cell_type": "code",
   "execution_count": 40,
   "metadata": {
    "collapsed": true
   },
   "outputs": [],
   "source": [
    "c = Counter(filtered_words)"
   ]
  },
  {
   "cell_type": "code",
   "execution_count": 42,
   "metadata": {},
   "outputs": [
    {
     "data": {
      "text/plain": [
       "[('的', 281),\n",
       " ('我', 134),\n",
       " ('你', 86),\n",
       " ('在', 84),\n",
       " ('是', 51),\n",
       " ('了', 47),\n",
       " ('这', 27),\n",
       " ('着', 25),\n",
       " ('她', 24),\n",
       " ('那', 23),\n",
       " ('一个', 22),\n",
       " ('里', 21),\n",
       " ('有', 17),\n",
       " ('不', 17),\n",
       " ('上', 16),\n",
       " ('也', 16),\n",
       " ('似的', 14),\n",
       " ('与', 14),\n",
       " ('中', 12),\n",
       " ('知道', 11),\n",
       " ('方向', 10),\n",
       " ('明星', 10),\n",
       " ('风', 10),\n",
       " ('恋爱', 10),\n",
       " ('飞扬', 9)]"
      ]
     },
     "execution_count": 42,
     "metadata": {},
     "output_type": "execute_result"
    }
   ],
   "source": [
    "c.most_common(25)"
   ]
  },
  {
   "cell_type": "markdown",
   "metadata": {},
   "source": [
    "## Parts of speech\n",
    "\n",
    "Jieba also includes a part-of-speech tagger: the `cut()` function in Jieba's `posseg` module. Here's an example of how to use the tagger:"
   ]
  },
  {
   "cell_type": "code",
   "execution_count": 72,
   "metadata": {
    "collapsed": true
   },
   "outputs": [],
   "source": [
    "import jieba.posseg as pseg"
   ]
  },
  {
   "cell_type": "code",
   "execution_count": 73,
   "metadata": {
    "collapsed": true
   },
   "outputs": [],
   "source": [
    "tagged = list(pseg.cut(open(\"./xu_zhimo.txt\").read()))"
   ]
  },
  {
   "cell_type": "code",
   "execution_count": 74,
   "metadata": {},
   "outputs": [
    {
     "name": "stdout",
     "output_type": "stream",
     "text": [
      "雪花 n\n",
      "的 uj\n",
      "快乐 a\n",
      "\n",
      " x\n",
      "\n",
      " x\n",
      "假若 c\n",
      "我 r\n",
      "是 v\n",
      "一朵 m\n",
      "雪花 n\n",
      "， x\n",
      "\n",
      " x\n",
      "翩翩 nr\n",
      "的 uj\n",
      "在 p\n",
      "半空 n\n",
      "里 f\n",
      "潇洒 a\n",
      "， x\n",
      "\n",
      " x\n",
      "我 r\n",
      "一定 d\n",
      "认清 v\n",
      "我 r\n",
      "的 uj\n",
      "方向 n\n",
      "\n",
      " x\n",
      "— x\n",
      "— x\n",
      "飞扬 v\n",
      "， x\n",
      "飞扬 v\n",
      "， x\n",
      "飞扬 v\n",
      "， x\n",
      "\n",
      " x\n",
      "这 r\n",
      "地面 n\n",
      "上有 v\n",
      "我 r\n",
      "的 uj\n",
      "方向 n\n",
      "。 x\n",
      "\n",
      " x\n",
      "\n",
      " x\n",
      "不 d\n",
      "去 v\n",
      "那 r\n",
      "冷寞 a\n",
      "的 uj\n"
     ]
    }
   ],
   "source": [
    "for item in tagged[:50]:\n",
    "    print(item.word, item.flag)"
   ]
  },
  {
   "cell_type": "markdown",
   "metadata": {},
   "source": [
    "The POS-tagging version of the `cut()` function returns a list of objects that have a `.word` attribute (containing the text of the word) and a `.flag` attribute, which has the part of speech. [Here's a list I believe to be accurate](https://github.com/fxsjy/jieba/issues/411#issuecomment-266689754) the gives the meanings of the tags.\n",
    "\n",
    "Once the words have been tagged, we can make counters that tell us about the most frequent nouns:"
   ]
  },
  {
   "cell_type": "code",
   "execution_count": 55,
   "metadata": {
    "collapsed": true
   },
   "outputs": [],
   "source": [
    "nouns = [item.word for item in tagged if item.flag == \"n\"]"
   ]
  },
  {
   "cell_type": "code",
   "execution_count": 59,
   "metadata": {},
   "outputs": [
    {
     "data": {
      "text/plain": [
       "['雪花',\n",
       " '雪花',\n",
       " '半空',\n",
       " '方向',\n",
       " '地面',\n",
       " '方向',\n",
       " '幽谷',\n",
       " '山麓',\n",
       " '荒街',\n",
       " '方向',\n",
       " '半空',\n",
       " '飞舞',\n",
       " '住处',\n",
       " '身轻',\n",
       " '衣襟',\n",
       " '柔波',\n",
       " '心胸',\n",
       " '消溶',\n",
       " '消溶',\n",
       " '消溶',\n",
       " '柔波',\n",
       " '心胸',\n",
       " '残诗',\n",
       " '瓷',\n",
       " '花砖']"
      ]
     },
     "execution_count": 59,
     "metadata": {},
     "output_type": "execute_result"
    }
   ],
   "source": [
    "nouns[:25]"
   ]
  },
  {
   "cell_type": "code",
   "execution_count": 63,
   "metadata": {
    "collapsed": true
   },
   "outputs": [],
   "source": [
    "nouncount = Counter(nouns)"
   ]
  },
  {
   "cell_type": "code",
   "execution_count": 64,
   "metadata": {},
   "outputs": [
    {
     "data": {
      "text/plain": [
       "[('梦', 12),\n",
       " ('方向', 10),\n",
       " ('风', 10),\n",
       " ('心', 6),\n",
       " ('黑夜', 5),\n",
       " ('青草', 4),\n",
       " ('山', 4),\n",
       " ('玫瑰', 4),\n",
       " ('世界', 4),\n",
       " ('人间', 4),\n",
       " ('柔波', 3),\n",
       " ('心胸', 3),\n",
       " ('消溶', 3),\n",
       " ('人', 3),\n",
       " ('象', 3),\n",
       " ('水', 3),\n",
       " ('荒野', 3),\n",
       " ('水晶', 3),\n",
       " ('时', 3),\n",
       " ('亲吻', 3),\n",
       " ('火焰', 3),\n",
       " ('热情', 3),\n",
       " ('等候', 3),\n",
       " ('头', 3),\n",
       " ('命运', 3)]"
      ]
     },
     "execution_count": 64,
     "metadata": {},
     "output_type": "execute_result"
    }
   ],
   "source": [
    "nouncount.most_common(25)"
   ]
  },
  {
   "cell_type": "code",
   "execution_count": 66,
   "metadata": {
    "collapsed": true
   },
   "outputs": [],
   "source": [
    "verbs = [item.word for item in tagged if item.flag == \"v\"]"
   ]
  },
  {
   "cell_type": "code",
   "execution_count": 75,
   "metadata": {},
   "outputs": [
    {
     "data": {
      "text/plain": [
       "[('是', 56),\n",
       " ('有', 16),\n",
       " ('去', 11),\n",
       " ('来', 11),\n",
       " ('要', 11),\n",
       " ('知道', 11),\n",
       " ('恋爱', 10),\n",
       " ('飞扬', 9),\n",
       " ('看', 8),\n",
       " ('像是', 7),\n",
       " ('不能', 7),\n",
       " ('吹', 7),\n",
       " ('像', 6),\n",
       " ('说', 5),\n",
       " ('走', 5),\n",
       " ('望', 5),\n",
       " ('累坏', 4),\n",
       " ('爱', 4),\n",
       " ('跟着', 4),\n",
       " ('寻', 3),\n",
       " ('挂', 3),\n",
       " ('破碎', 3),\n",
       " ('希望', 3),\n",
       " ('开', 3),\n",
       " ('笑', 3)]"
      ]
     },
     "execution_count": 75,
     "metadata": {},
     "output_type": "execute_result"
    }
   ],
   "source": [
    "verbcount = Counter(verbs)\n",
    "verbcount.most_common(25)"
   ]
  },
  {
   "cell_type": "code",
   "execution_count": 81,
   "metadata": {
    "collapsed": true
   },
   "outputs": [],
   "source": [
    "adjs = [item.word for item in tagged if item.flag == \"a\"]"
   ]
  },
  {
   "cell_type": "code",
   "execution_count": 86,
   "metadata": {},
   "outputs": [
    {
     "data": {
      "text/plain": [
       "[('痴', 5),\n",
       " ('自由', 4),\n",
       " ('全', 3),\n",
       " ('珍重', 3),\n",
       " ('忧愁', 3),\n",
       " ('沉默', 3),\n",
       " ('不易', 3),\n",
       " ('香', 3),\n",
       " ('凄清', 2),\n",
       " ('红', 2),\n",
       " ('惊醒', 2),\n",
       " ('浓密', 2),\n",
       " ('最好', 2),\n",
       " ('阔', 2),\n",
       " ('柔软', 2),\n",
       " ('欢欣', 2),\n",
       " ('柔情', 2),\n",
       " ('粗', 2),\n",
       " ('丑', 2),\n",
       " ('懦怯', 2),\n",
       " ('早', 2),\n",
       " ('快乐', 1),\n",
       " ('潇洒', 1),\n",
       " ('冷寞', 1),\n",
       " ('惆怅', 1)]"
      ]
     },
     "execution_count": 86,
     "metadata": {},
     "output_type": "execute_result"
    }
   ],
   "source": [
    "adjcount = Counter(adjs)\n",
    "adjcount.most_common(25)"
   ]
  },
  {
   "cell_type": "code",
   "execution_count": 87,
   "metadata": {},
   "outputs": [
    {
     "data": {
      "text/plain": [
       "[('飕飕', 1), ('啁啾', 1)]"
      ]
     },
     "execution_count": 87,
     "metadata": {},
     "output_type": "execute_result"
    }
   ],
   "source": [
    "sounds = [item.word for item in tagged if item.flag == \"o\"]\n",
    "soundcount = Counter(sounds)\n",
    "soundcount.most_common(25)"
   ]
  },
  {
   "cell_type": "markdown",
   "metadata": {},
   "source": [
    "Here's a very, very poor poetry generator based on this data:"
   ]
  },
  {
   "cell_type": "code",
   "execution_count": 131,
   "metadata": {},
   "outputs": [
    {
     "name": "stdout",
     "output_type": "stream",
     "text": [
      "条爱树尖\n",
      "热情是处\n",
      "风雨无样儿\n",
      "视觉起造瓷\n",
      "踪影照亮风\n",
      "风雨定笑\n",
      "衣袖不能宇宙\n",
      "荒野无比梢头\n",
      "亲吻点染魂灵\n",
      "水静止驱策\n",
      "处没天神\n",
      "眼角透宇宙\n",
      "落花去心\n",
      "细蕊撑地面\n",
      "身轻发抖处\n"
     ]
    }
   ],
   "source": [
    "import random\n",
    "for i in range(15):\n",
    "    print(\"\".join([random.choice(nouns), random.choice(verbs), random.choice(nouns)]))"
   ]
  },
  {
   "cell_type": "markdown",
   "metadata": {},
   "source": [
    "We can also use Pandas to do some elementary data visualization."
   ]
  },
  {
   "cell_type": "code",
   "execution_count": 124,
   "metadata": {
    "collapsed": true
   },
   "outputs": [],
   "source": [
    "%matplotlib inline\n",
    "import pandas as pd\n",
    "import matplotlib.pyplot as plt\n",
    "pd.set_option('max_rows', 25)\n",
    "plt.style.use('ggplot')\n",
    "plt.rcParams[\"figure.figsize\"] = (10, 4)"
   ]
  },
  {
   "cell_type": "markdown",
   "metadata": {},
   "source": [
    "To get Chinese characters to show up in Pandas plots, you need to find a font installed on your system that supports the full Unicode character set. On macOS:"
   ]
  },
  {
   "cell_type": "code",
   "execution_count": 125,
   "metadata": {
    "collapsed": true
   },
   "outputs": [],
   "source": [
    "plt.rcParams[\"font.sans-serif\"] = [\"Arial Unicode MS\"]"
   ]
  },
  {
   "cell_type": "markdown",
   "metadata": {},
   "source": [
    "I'll create a series with all of the nouns:"
   ]
  },
  {
   "cell_type": "code",
   "execution_count": 133,
   "metadata": {
    "collapsed": true
   },
   "outputs": [],
   "source": [
    "noun_series = pd.Series(nouns)"
   ]
  },
  {
   "cell_type": "markdown",
   "metadata": {},
   "source": [
    "And then I can make a series with the most common nouns using `.value_counts()`:"
   ]
  },
  {
   "cell_type": "code",
   "execution_count": 128,
   "metadata": {
    "collapsed": true
   },
   "outputs": [],
   "source": [
    "top_fifteen = noun_series.value_counts()[:15]"
   ]
  },
  {
   "cell_type": "code",
   "execution_count": 134,
   "metadata": {
    "scrolled": true
   },
   "outputs": [
    {
     "data": {
      "text/plain": [
       "梦     12\n",
       "方向    10\n",
       "风     10\n",
       "心      6\n",
       "黑夜     5\n",
       "山      4\n",
       "世界     4\n",
       "人间     4\n",
       "玫瑰     4\n",
       "青草     4\n",
       "人      3\n",
       "荒野     3\n",
       "火焰     3\n",
       "顽石     3\n",
       "时      3\n",
       "dtype: int64"
      ]
     },
     "execution_count": 134,
     "metadata": {},
     "output_type": "execute_result"
    }
   ],
   "source": [
    "top_fifteen"
   ]
  },
  {
   "cell_type": "markdown",
   "metadata": {},
   "source": [
    "Finally, let's draw a bar graph with the top fifteen most common nouns:"
   ]
  },
  {
   "cell_type": "code",
   "execution_count": 132,
   "metadata": {},
   "outputs": [
    {
     "data": {
      "text/plain": [
       "<matplotlib.axes._subplots.AxesSubplot at 0x1248b8e80>"
      ]
     },
     "execution_count": 132,
     "metadata": {},
     "output_type": "execute_result"
    },
    {
     "data": {
      "image/png": "[encoded data removed]",
      "text/plain": [
       "<matplotlib.figure.Figure at 0x124794e48>"
      ]
     },
     "metadata": {},
     "output_type": "display_data"
    }
   ],
   "source": [
    "top_fifteen.plot(kind=\"bar\")"
   ]
  }
 ],
 "metadata": {
  "kernelspec": {
   "display_name": "Python 3",
   "language": "python",
   "name": "python3"
  },
  "language_info": {
   "codemirror_mode": {
    "name": "ipython",
    "version": 3
   },
   "file_extension": ".py",
   "mimetype": "text/x-python",
   "name": "python",
   "nbconvert_exporter": "python",
   "pygments_lexer": "ipython3",
   "version": "3.6.1"
  }
 },
 "nbformat": 4,
 "nbformat_minor": 2
}
