{
 "cells": [
  {
   "cell_type": "code",
   "execution_count": 43,
   "metadata": {
    "collapsed": true
   },
   "outputs": [],
   "source": [
    "import numpy as np"
   ]
  },
  {
   "cell_type": "code",
   "execution_count": 48,
   "metadata": {
    "collapsed": true
   },
   "outputs": [],
   "source": [
    "import gzip\n",
    "vecs = {}\n",
    "for i, line in enumerate(gzip.open(\"zh-50k.vec.gz\", mode=\"rt\", encoding=\"utf8\")):\n",
    "    line = line.strip()\n",
    "    fields = line.split()\n",
    "    word = fields[0]\n",
    "    vec = np.array([float(x) for x in fields[1:]])\n",
    "    if len(vec) != 300:\n",
    "        continue\n",
    "    vecs[word] = vec"
   ]
  },
  {
   "cell_type": "code",
   "execution_count": 49,
   "metadata": {
    "scrolled": true
   },
   "outputs": [
    {
     "data": {
      "text/plain": [
       "array([-0.080654,  0.92857 , -0.80243 ,  0.07959 ,  1.0905  , -0.36953 ,\n",
       "       -0.61218 ,  0.13939 ,  0.58874 ,  0.32197 ,  1.2121  ,  0.25708 ,\n",
       "        1.2921  , -1.1398  ,  0.41503 , -0.89934 ,  0.80209 , -0.56484 ,\n",
       "       -1.4821  , -0.80865 , -1.1751  ,  1.4621  ,  1.3497  , -0.055161,\n",
       "        1.142   , -0.64281 ,  1.6341  , -0.10347 ,  1.0953  ,  0.26906 ,\n",
       "        0.91051 , -1.1689  , -1.0473  , -0.64934 , -0.68416 ,  1.4666  ,\n",
       "        1.3768  , -0.46799 ,  0.37927 ,  1.7922  ,  1.1464  ,  1.7355  ,\n",
       "        1.4968  , -1.2961  , -0.75857 , -0.49246 , -1.0988  , -0.88717 ,\n",
       "        0.31625 , -1.5837  ,  1.0528  , -0.51194 , -0.50414 , -0.62568 ,\n",
       "        0.22494 , -1.2283  , -1.1931  , -1.6217  , -4.3753  ,  0.60226 ,\n",
       "        1.0873  , -0.16854 ,  1.2796  ,  1.1727  ,  0.51944 ,  1.0567  ,\n",
       "       -1.3084  , -0.72226 , -0.32162 ,  0.18234 ,  1.7002  , -0.69738 ,\n",
       "        1.5555  , -0.67442 , -1.1027  ,  0.68776 , -0.10535 , -1.5393  ,\n",
       "       -0.50548 , -1.1877  , -0.54125 ,  0.25082 ,  1.1092  , -0.79009 ,\n",
       "       -0.85958 , -1.2144  ,  0.19919 ,  0.62217 ,  0.046631, -0.91973 ,\n",
       "       -1.1847  ,  0.51723 , -0.17038 , -0.27698 , -0.83479 ,  1.4069  ,\n",
       "        0.78131 ,  0.49107 , -0.23838 ,  0.094378,  0.40569 ,  0.59964 ,\n",
       "       -0.59619 ,  1.092   , -0.67586 ,  1.1049  ,  0.30191 , -0.7995  ,\n",
       "       -0.49897 , -0.05031 , -0.016534, -1.0489  , -0.045247,  0.55225 ,\n",
       "        0.21926 ,  0.6962  , -0.74927 ,  0.45394 , -0.8021  , -1.1454  ,\n",
       "       -0.9245  ,  0.91827 ,  0.72007 , -0.28866 , -0.59732 , -0.96526 ,\n",
       "        0.76749 ,  1.097   , -1.2814  ,  0.65156 ,  0.71779 ,  0.49426 ,\n",
       "       -1.1298  ,  1.1994  , -1.6715  ,  0.29361 , -0.31235 , -0.034869,\n",
       "       -1.0525  , -0.74011 ,  0.15146 ,  0.64581 ,  1.5157  , -1.1852  ,\n",
       "       -0.60907 ,  0.54454 , -1.7789  , -0.007907, -0.83265 , -0.20987 ,\n",
       "        0.59497 ,  0.66345 , -0.51423 ,  0.29206 ,  0.73085 , -1.3065  ,\n",
       "        0.6909  , -0.60365 , -0.14749 ,  0.91051 ,  0.53128 ,  0.36269 ,\n",
       "        0.50514 , -0.1411  , -0.10316 ,  0.20318 , -0.12308 ,  0.82147 ,\n",
       "        0.54937 ,  0.45033 ,  0.96344 ,  0.57955 ,  1.3402  , -0.32172 ,\n",
       "        0.02243 , -0.088126,  1.1498  ,  1.449   ,  0.075594, -0.6366  ,\n",
       "       -0.21886 , -0.65045 , -0.12933 ,  0.47743 , -0.35498 ,  1.0465  ,\n",
       "        0.12317 , -0.80995 , -0.28261 ,  1.0129  , -0.15823 , -0.45837 ,\n",
       "       -0.8068  , -0.66587 , -0.41454 , -0.47428 , -0.55839 , -1.114   ,\n",
       "       -0.044125,  0.3296  ,  0.25045 , -0.33604 ,  0.065927, -0.88645 ,\n",
       "        0.11511 ,  0.20005 ,  0.16887 , -0.46063 , -0.13932 ,  0.64774 ,\n",
       "       -1.0842  ,  0.47699 , -0.41534 ,  0.10421 , -0.58945 ,  0.62837 ,\n",
       "        0.30683 ,  0.02458 ,  1.0277  ,  0.70129 , -0.61886 ,  1.124   ,\n",
       "        0.1997  , -0.36278 , -1.1537  ,  0.78391 , -0.20891 , -0.5513  ,\n",
       "       -1.1673  ,  0.15148 , -1.1962  , -0.90361 ,  0.52418 , -0.85107 ,\n",
       "       -0.035536,  0.9807  ,  0.28659 , -1.7692  , -0.25432 , -0.23417 ,\n",
       "        1.2122  , -0.6921  ,  0.68642 , -0.68084 , -0.28698 , -0.14058 ,\n",
       "       -0.634   , -0.37921 , -1.0754  ,  0.34434 , -0.32982 ,  0.18298 ,\n",
       "       -1.1182  ,  0.30563 , -0.75204 , -0.15078 ,  0.59817 ,  0.74112 ,\n",
       "       -1.7375  , -0.1354  ,  0.38226 , -0.42085 , -0.3816  , -0.19724 ,\n",
       "       -0.8078  , -0.30816 , -1.0789  , -0.9418  , -2.3413  , -1.0537  ,\n",
       "       -0.071237,  0.48244 ,  1.3952  , -1.4017  , -0.29739 , -0.16412 ,\n",
       "       -0.1402  ,  0.89246 , -0.14792 , -0.70682 ,  0.47588 ,  1.6904  ,\n",
       "        0.019374,  0.93834 , -0.14441 , -0.57373 ,  0.7225  ,  0.36007 ,\n",
       "       -1.0538  , -0.16237 , -0.72495 , -1.1354  , -0.61717 , -0.75574 ,\n",
       "       -0.11564 , -0.87964 ,  0.070051,  0.319   ,  0.8966  , -0.24954 ])"
      ]
     },
     "execution_count": 49,
     "metadata": {},
     "output_type": "execute_result"
    }
   ],
   "source": [
    "vecs[\"猫\"]"
   ]
  },
  {
   "cell_type": "code",
   "execution_count": 50,
   "metadata": {
    "collapsed": true
   },
   "outputs": [],
   "source": [
    "import numpy as np\n",
    "from numpy import dot\n",
    "from numpy.linalg import norm\n",
    "\n",
    "# cosine similarity\n",
    "def cosine(v1, v2):\n",
    "    if norm(v1) > 0 and norm(v2) > 0:\n",
    "        return dot(v1, v2) / (norm(v1) * norm(v2))\n",
    "    else:\n",
    "        return 0.0"
   ]
  },
  {
   "cell_type": "code",
   "execution_count": 51,
   "metadata": {},
   "outputs": [
    {
     "data": {
      "text/plain": [
       "0.97609530509690179"
      ]
     },
     "execution_count": 51,
     "metadata": {},
     "output_type": "execute_result"
    }
   ],
   "source": [
    "cosine(vecs[\"猫\"], vecs[\"狗\"])"
   ]
  },
  {
   "cell_type": "code",
   "execution_count": 52,
   "metadata": {},
   "outputs": [
    {
     "data": {
      "text/plain": [
       "0.88660692878973246"
      ]
     },
     "execution_count": 52,
     "metadata": {},
     "output_type": "execute_result"
    }
   ],
   "source": [
    "cosine(vecs[\"猫\"], vecs[\"深圳\"])"
   ]
  },
  {
   "cell_type": "code",
   "execution_count": 53,
   "metadata": {},
   "outputs": [
    {
     "data": {
      "text/plain": [
       "0.93054667231075927"
      ]
     },
     "execution_count": 53,
     "metadata": {},
     "output_type": "execute_result"
    }
   ],
   "source": [
    "cosine(vecs[\"北京\"], vecs[\"深圳\"])"
   ]
  },
  {
   "cell_type": "code",
   "execution_count": 133,
   "metadata": {
    "collapsed": true
   },
   "outputs": [],
   "source": [
    "def closest(vecs, v, n=10):\n",
    "    return sorted(vecs.keys(), key=lambda x: cosine(vecs[x], v), reverse=True)[:n]"
   ]
  },
  {
   "cell_type": "code",
   "execution_count": 134,
   "metadata": {},
   "outputs": [
    {
     "data": {
      "text/plain": [
       "['北京', '南京', '上海', '天津', '北平', '成都', '杭州', '西安', '燕京', '沈阳']"
      ]
     },
     "execution_count": 134,
     "metadata": {},
     "output_type": "execute_result"
    }
   ],
   "source": [
    "closest(vecs, vecs[\"北京\"])"
   ]
  },
  {
   "cell_type": "code",
   "execution_count": 135,
   "metadata": {},
   "outputs": [
    {
     "data": {
      "text/plain": [
       "['猫', '狗', '貓', '猪', '叫', '豹', '兔', '疯', '\"', '狼']"
      ]
     },
     "execution_count": 135,
     "metadata": {},
     "output_type": "execute_result"
    }
   ],
   "source": [
    "closest(vecs, vecs[\"猫\"])"
   ]
  },
  {
   "cell_type": "code",
   "execution_count": 136,
   "metadata": {},
   "outputs": [
    {
     "data": {
      "text/plain": [
       "['妹妹', '哥哥', '姐姐', '弟弟', '姊姊', '丈夫', '妻子', '女兒', '表妹', '姊']"
      ]
     },
     "execution_count": 136,
     "metadata": {},
     "output_type": "execute_result"
    }
   ],
   "source": [
    "closest(vecs, vecs[\"妹妹\"])"
   ]
  },
  {
   "cell_type": "code",
   "execution_count": 137,
   "metadata": {
    "scrolled": true
   },
   "outputs": [
    {
     "ename": "KeyError",
     "evalue": "'諳'",
     "output_type": "error",
     "traceback": [
      "\u001b[0;31m---------------------------------------------------------------------------\u001b[0m",
      "\u001b[0;31mKeyError\u001b[0m                                  Traceback (most recent call last)",
      "\u001b[0;32m<ipython-input-137-1f072fa31992>\u001b[0m in \u001b[0;36m<module>\u001b[0;34m()\u001b[0m\n\u001b[0;32m----> 1\u001b[0;31m \u001b[0mvecs\u001b[0m\u001b[0;34m[\u001b[0m\u001b[0;34m\"諳\"\u001b[0m\u001b[0;34m]\u001b[0m\u001b[0;34m\u001b[0m\u001b[0m\n\u001b[0m",
      "\u001b[0;31mKeyError\u001b[0m: '諳'"
     ]
    }
   ],
   "source": [
    "vecs[\"諳\"]"
   ]
  },
  {
   "cell_type": "code",
   "execution_count": 138,
   "metadata": {
    "collapsed": true
   },
   "outputs": [],
   "source": [
    "import jieba"
   ]
  },
  {
   "cell_type": "code",
   "execution_count": 139,
   "metadata": {
    "collapsed": true
   },
   "outputs": [],
   "source": [
    "import numpy as np\n",
    "def summarize(vecs, words):\n",
    "    found = [vecs[w] for w in words if w in vecs]\n",
    "    if len(found) > 0:\n",
    "        return np.mean(found, axis=0)\n",
    "    else:\n",
    "        return np.zeros(300)"
   ]
  },
  {
   "cell_type": "code",
   "execution_count": 179,
   "metadata": {
    "collapsed": true
   },
   "outputs": [],
   "source": [
    "import re\n",
    "def sentences_zh(text):\n",
    "    text = text.replace(\"\\n\", \"\").replace(\"\\u3000\", \"\")\n",
    "    ss = re.split(r\"[。？！“：]+\", text)\n",
    "    return [sent.strip() for sent in ss if len(sent) > 0]"
   ]
  },
  {
   "cell_type": "code",
   "execution_count": 180,
   "metadata": {
    "collapsed": true
   },
   "outputs": [],
   "source": [
    "def sentence_space(word_vecs, text):\n",
    "    space = {}\n",
    "    sentences = sentences_zh(text)\n",
    "    for sent in sentences:\n",
    "        summary = summarize(word_vecs, jieba.cut(sent))\n",
    "        space[sent] = summary\n",
    "    return space"
   ]
  },
  {
   "cell_type": "markdown",
   "metadata": {},
   "source": [
    "\"Hands (2.2) - Xiao Hong (1911-1942) was a writer of essays, fiction, and poetry who is widely considered to be China's first feminist novelist. A close friend of Lu Xun, she is best known for her political satire and her depictions of life under Japanese rule and in small towns still governed by feudal customs. Her style, at once sweeping and compassionate, has been compared to that of Tolstoy, Flaubert, and Ba Jin. Published in 1936, this short story--one of her best known--is about a dye-worker's daughter who is ostracized at school because of her darkened hands. Her personal suffering becomes an emblem of her society's assaults on the dignity and integrity of the working class. (View Text | Download Text)\" from [here](http://www-personal.umich.edu/~dporter/sampler/sampler.html)"
   ]
  },
  {
   "cell_type": "code",
   "execution_count": 181,
   "metadata": {
    "collapsed": true
   },
   "outputs": [],
   "source": [
    "text = open(\"shou.txt\").read()"
   ]
  },
  {
   "cell_type": "code",
   "execution_count": 182,
   "metadata": {
    "collapsed": true
   },
   "outputs": [],
   "source": [
    "space = sentence_space(vecs, text)"
   ]
  },
  {
   "cell_type": "code",
   "execution_count": 194,
   "metadata": {},
   "outputs": [
    {
     "name": "stdout",
     "output_type": "stream",
     "text": [
      "从小铁锅煮好的鸡子，我也看到的，是黑的，我以为那是中了毒\n",
      "我听到床头上有沙沙的声音，好像什么人在我的床头摸索着，我仰过头去，在月光下我看到了是王亚明的黑手，并且把我借给她的那本书放在我的旁边\n",
      "”她又向角落里走了几步，我看到她的白眼球好像对着我似的\n",
      "我是叫你下楼，等参观的走了再上来，谁叫你就站在过道呢\n",
      "我的手是黑的，细看才带点紫色，那两个妹妹也都和我一样\n",
      "妈的，吃胖了，这里吃的比自家吃的好，是不是\n",
      "我不要她，我不和她并床……”\n",
      "爹，你戴着吧，我戴手套本来是没用的\n",
      "她的虱子，我不挨着她……”\n",
      "马利亚，真像有这个人一样，她倒在雪地上，我想她没有死吧\n"
     ]
    }
   ],
   "source": [
    "for s in closest(space, summarize(vecs, jieba.cut(\"我的狗\"))):\n",
    "    print(s)"
   ]
  }
 ],
 "metadata": {
  "kernelspec": {
   "display_name": "Python 3",
   "language": "python",
   "name": "python3"
  },
  "language_info": {
   "codemirror_mode": {
    "name": "ipython",
    "version": 3
   },
   "file_extension": ".py",
   "mimetype": "text/x-python",
   "name": "python",
   "nbconvert_exporter": "python",
   "pygments_lexer": "ipython3",
   "version": "3.6.1"
  }
 },
 "nbformat": 4,
 "nbformat_minor": 2
}
